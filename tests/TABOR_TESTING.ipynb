{
 "cells": [
  {
   "cell_type": "code",
   "execution_count": 4,
   "metadata": {},
   "outputs": [],
   "source": [
    "from sqdtoolz.Experiment import Experiment\n",
    "from sqdtoolz.HAL.DDG import*\n",
    "from sqdtoolz.HAL.AWG import*\n",
    "from sqdtoolz.HAL.ACQ import*\n",
    "from sqdtoolz.ExperimentConfiguration import*\n",
    "from sqdtoolz.HAL.WaveformSegments import*\n",
    "from sqdtoolz.HAL.WaveformTransformations import*\n",
    "import numpy as np\n",
    "from sqdtoolz.Variable import*\n",
    "from sqdtoolz.Laboratory import*\n",
    "\n",
    "from sqdtoolz.HAL.Processors.ProcessorCPU import*\n",
    "from sqdtoolz.HAL.Processors.CPU.CPU_DDC import*\n",
    "from sqdtoolz.HAL.Processors.CPU.CPU_FIR import*\n",
    "from sqdtoolz.HAL.Processors.CPU.CPU_Mean import*\n"
   ]
  },
  {
   "cell_type": "code",
   "execution_count": 8,
   "metadata": {},
   "outputs": [
    {
     "data": {
      "text/plain": [
       "<sqdtoolz.HAL.WaveformTransformations.WFMT_ModulationIQ at 0x23d92a7a220>"
      ]
     },
     "execution_count": 8,
     "metadata": {},
     "output_type": "execute_result"
    }
   ],
   "source": [
    "# Create New Laboratory Class\n",
    "lab = Laboratory(instr_config_file = \"TaborTest_JD.yaml\", save_dir = \"mySaves\\\\\")\n",
    "\n",
    "# Load the Tabor into the lab class to use\n",
    "lab.load_instrument('TaborAWG')\n",
    "\n",
    "# Define the modulation waveform transformation\n",
    "# QUESTION: HOW DO THESE STRING VARIABLES FUNCTION, ARE THEY ARBITRARY\n",
    "# ANSWER: CODE STILL RAN with it changed to an arbitrary value \"myTestMod\" old value was: QubitFreqMod\n",
    "WFMT_ModulationIQ(\"myTestMod\", lab, 100e6)"
   ]
  },
  {
   "cell_type": "code",
   "execution_count": 9,
   "metadata": {},
   "outputs": [
    {
     "ename": "AttributeError",
     "evalue": "'TaborP2584M_AWG' object and its delegates have no attribute '_seg_off_ch2'",
     "output_type": "error",
     "traceback": [
      "\u001b[1;31m---------------------------------------------------------------------------\u001b[0m",
      "\u001b[1;31mAttributeError\u001b[0m                            Traceback (most recent call last)",
      "\u001b[1;32mC:\\Users\\EXPERI~1\\AppData\\Local\\Temp/ipykernel_5732/2645621696.py\u001b[0m in \u001b[0;36m<module>\u001b[1;34m\u001b[0m\n\u001b[0;32m     19\u001b[0m \u001b[0mawg_wfm_q\u001b[0m\u001b[1;33m.\u001b[0m\u001b[0mget_output_channel\u001b[0m\u001b[1;33m(\u001b[0m\u001b[1;36m0\u001b[0m\u001b[1;33m)\u001b[0m\u001b[1;33m.\u001b[0m\u001b[0mmarker\u001b[0m\u001b[1;33m(\u001b[0m\u001b[1;36m0\u001b[0m\u001b[1;33m)\u001b[0m\u001b[1;33m.\u001b[0m\u001b[0mset_markers_to_segments\u001b[0m\u001b[1;33m(\u001b[0m\u001b[0mread_segs\u001b[0m\u001b[1;33m)\u001b[0m\u001b[1;33m\u001b[0m\u001b[1;33m\u001b[0m\u001b[0m\n\u001b[0;32m     20\u001b[0m \u001b[0mawg_wfm_q\u001b[0m\u001b[1;33m.\u001b[0m\u001b[0mprepare_initial\u001b[0m\u001b[1;33m(\u001b[0m\u001b[1;33m)\u001b[0m\u001b[1;33m\u001b[0m\u001b[1;33m\u001b[0m\u001b[0m\n\u001b[1;32m---> 21\u001b[1;33m \u001b[0mawg_wfm_q\u001b[0m\u001b[1;33m.\u001b[0m\u001b[0mprepare_final\u001b[0m\u001b[1;33m(\u001b[0m\u001b[1;33m)\u001b[0m\u001b[1;33m\u001b[0m\u001b[1;33m\u001b[0m\u001b[0m\n\u001b[0m\u001b[0;32m     22\u001b[0m \u001b[1;33m\u001b[0m\u001b[0m\n\u001b[0;32m     23\u001b[0m \u001b[0mawg_wfm_q\u001b[0m\u001b[1;33m.\u001b[0m\u001b[0mget_output_channel\u001b[0m\u001b[1;33m(\u001b[0m\u001b[1;36m0\u001b[0m\u001b[1;33m)\u001b[0m\u001b[1;33m.\u001b[0m\u001b[0mOutput\u001b[0m \u001b[1;33m=\u001b[0m \u001b[1;32mTrue\u001b[0m\u001b[1;33m\u001b[0m\u001b[1;33m\u001b[0m\u001b[0m\n",
      "\u001b[1;32mc:\\users\\experiment\\sqdtoolz\\sqdtoolz\\HAL\\AWG.py\u001b[0m in \u001b[0;36mprepare_final\u001b[1;34m(self)\u001b[0m\n\u001b[0;32m    474\u001b[0m         \u001b[1;32mif\u001b[0m \u001b[1;32mnot\u001b[0m \u001b[0mself\u001b[0m\u001b[1;33m.\u001b[0m\u001b[0m_dont_reprogram\u001b[0m\u001b[1;33m:\u001b[0m\u001b[1;33m\u001b[0m\u001b[1;33m\u001b[0m\u001b[0m\n\u001b[0;32m    475\u001b[0m             \u001b[1;32mfor\u001b[0m \u001b[0mind\u001b[0m\u001b[1;33m,\u001b[0m \u001b[0mcur_awg_chan\u001b[0m \u001b[1;32min\u001b[0m \u001b[0menumerate\u001b[0m\u001b[1;33m(\u001b[0m\u001b[0mself\u001b[0m\u001b[1;33m.\u001b[0m\u001b[0m_awg_chan_list\u001b[0m\u001b[1;33m)\u001b[0m\u001b[1;33m:\u001b[0m\u001b[1;33m\u001b[0m\u001b[1;33m\u001b[0m\u001b[0m\n\u001b[1;32m--> 476\u001b[1;33m                 \u001b[0mcur_awg_chan\u001b[0m\u001b[1;33m.\u001b[0m\u001b[0m_instr_awg\u001b[0m\u001b[1;33m.\u001b[0m\u001b[0mprogram_channel\u001b[0m\u001b[1;33m(\u001b[0m\u001b[0mcur_awg_chan\u001b[0m\u001b[1;33m.\u001b[0m\u001b[0m_instr_awg_chan\u001b[0m\u001b[1;33m.\u001b[0m\u001b[0mshort_name\u001b[0m\u001b[1;33m,\u001b[0m \u001b[0mself\u001b[0m\u001b[1;33m.\u001b[0m\u001b[0mcur_wfms_to_commit\u001b[0m\u001b[1;33m[\u001b[0m\u001b[0mind\u001b[0m\u001b[1;33m]\u001b[0m\u001b[1;33m)\u001b[0m\u001b[1;33m\u001b[0m\u001b[1;33m\u001b[0m\u001b[0m\n\u001b[0m\u001b[0;32m    477\u001b[0m                 \u001b[1;31m#Set it AFTER the programming in case there is an error etc...\u001b[0m\u001b[1;33m\u001b[0m\u001b[1;33m\u001b[0m\u001b[0m\n\u001b[0;32m    478\u001b[0m                 \u001b[0mself\u001b[0m\u001b[1;33m.\u001b[0m\u001b[0m_cur_prog_waveforms\u001b[0m\u001b[1;33m[\u001b[0m\u001b[0mind\u001b[0m\u001b[1;33m]\u001b[0m \u001b[1;33m=\u001b[0m \u001b[0mself\u001b[0m\u001b[1;33m.\u001b[0m\u001b[0mcur_wfms_to_commit\u001b[0m\u001b[1;33m[\u001b[0m\u001b[0mind\u001b[0m\u001b[1;33m]\u001b[0m\u001b[1;33m\u001b[0m\u001b[1;33m\u001b[0m\u001b[0m\n",
      "\u001b[1;32mc:\\users\\experiment\\sqdtoolz\\sqdtoolz\\Drivers\\Tabor_P2584M.py\u001b[0m in \u001b[0;36mprogram_channel\u001b[1;34m(self, chan_id, dict_wfm_data)\u001b[0m\n\u001b[0;32m    314\u001b[0m         \u001b[0mself\u001b[0m\u001b[1;33m.\u001b[0m\u001b[0m_setup_memory_banks\u001b[0m\u001b[1;33m(\u001b[0m\u001b[1;33m)\u001b[0m\u001b[1;33m\u001b[0m\u001b[1;33m\u001b[0m\u001b[0m\n\u001b[0;32m    315\u001b[0m         \u001b[1;32mif\u001b[0m \u001b[0mchan_ind\u001b[0m \u001b[1;33m==\u001b[0m \u001b[1;36m1\u001b[0m\u001b[1;33m:\u001b[0m\u001b[1;33m\u001b[0m\u001b[1;33m\u001b[0m\u001b[0m\n\u001b[1;32m--> 316\u001b[1;33m             \u001b[0mseg_offset\u001b[0m \u001b[1;33m=\u001b[0m \u001b[0mself\u001b[0m\u001b[1;33m.\u001b[0m\u001b[0m_seg_off_ch2\u001b[0m\u001b[1;33m\u001b[0m\u001b[1;33m\u001b[0m\u001b[0m\n\u001b[0m\u001b[0;32m    317\u001b[0m         \u001b[1;32melif\u001b[0m \u001b[0mchan_ind\u001b[0m \u001b[1;33m==\u001b[0m \u001b[1;36m3\u001b[0m\u001b[1;33m:\u001b[0m\u001b[1;33m\u001b[0m\u001b[1;33m\u001b[0m\u001b[0m\n\u001b[0;32m    318\u001b[0m             \u001b[0mseg_offset\u001b[0m \u001b[1;33m=\u001b[0m \u001b[0mself\u001b[0m\u001b[1;33m.\u001b[0m\u001b[0m_seg_off_ch4\u001b[0m\u001b[1;33m\u001b[0m\u001b[1;33m\u001b[0m\u001b[0m\n",
      "\u001b[1;32m~\\Anaconda3\\envs\\sqdtoolz_beta\\lib\\site-packages\\qcodes\\utils\\helpers.py\u001b[0m in \u001b[0;36m__getattr__\u001b[1;34m(self, key)\u001b[0m\n\u001b[0;32m    404\u001b[0m                 \u001b[1;32mpass\u001b[0m\u001b[1;33m\u001b[0m\u001b[1;33m\u001b[0m\u001b[0m\n\u001b[0;32m    405\u001b[0m \u001b[1;33m\u001b[0m\u001b[0m\n\u001b[1;32m--> 406\u001b[1;33m         raise AttributeError(\n\u001b[0m\u001b[0;32m    407\u001b[0m             \"'{}' object and its delegates have no attribute '{}'\".format(\n\u001b[0;32m    408\u001b[0m                 self.__class__.__name__, key))\n",
      "\u001b[1;31mAttributeError\u001b[0m: 'TaborP2584M_AWG' object and its delegates have no attribute '_seg_off_ch2'"
     ]
    }
   ],
   "source": [
    "# Setup a \n",
    "#awg_wfm_q = WaveformAWG(\"Waveform 2 CH\", lab, [(['TaborAWG', 'AWG'], 'CH1'),(['TaborAWG', 'AWG'], 'CH2')], 1e9)\n",
    "awg_wfm_q = WaveformAWG(\"Waveform 1 CH\", lab, [(['TaborAWG', 'AWG'], 'CH2')], 1e9)\n",
    "read_segs = []\n",
    "for m in range(4):\n",
    "    # awg_wfm_q.add_waveform_segment(WFS_Constant(f\"init{m}\", lab.WFMT('myTestMod').apply(), 512e-9-384e-9, 0.5-0.1*m))#WFS_Gaussian\n",
    "    # awg_wfm_q.add_waveform_segment(WFS_Constant(f\"zero1{m}\", None, 512e-9+384e-9, 0.01*m))\n",
    "    # awg_wfm_q.add_waveform_segment(WFS_Constant(f\"init2{m}\", lab.WFMT('myTestMod').apply(), 512e-9, 0.0*(0.5-0.1*m)))\n",
    "    # awg_wfm_q.add_waveform_segment(WFS_Constant(f\"zero2{m}\", None, 576e-9, 0.0))\n",
    "    awg_wfm_q.add_waveform_segment(WFS_Constant(\"Wait\", None, 512e-9, 0.0))\n",
    "    awg_wfm_q.add_waveform_segment(WFS_Gaussian(f\"init{m}\", lab.WFMT('myTestMod').apply(), 512e-9, 0.1))\n",
    "    read_segs += [f\"init{m}\"]\n",
    "\n",
    "\n",
    "\n",
    "# awg_wfm_q.get_output_channel(0).marker(0).set_markers_to_segments([\"init0\",\"init2\"])\n",
    "awg_wfm_q.get_output_channel(0).marker(0).set_markers_to_segments(read_segs)\n",
    "awg_wfm_q.prepare_initial()\n",
    "awg_wfm_q.prepare_final()\n",
    "\n",
    "awg_wfm_q.get_output_channel(0).Output = True\n",
    "awg_wfm_q.get_output_channel(1).Output = True\n",
    "# inst_tabor.AWG._get_channel_output('CH1').marker1_output(True)\n",
    "# inst_tabor.AWG._get_channel_output('CH1').marker2_output(True)\n",
    "\n",
    "# my_param1 = VariableInstrument(\"len1\", awg_wfm2, 'IQFrequency')\n",
    "# my_param2 = VariableInstrument(\"len2\", awg_wfm2, 'IQPhase')\n",
    "\n",
    "# tc = TimingConfiguration(1.2e-6, [ddg_module], [awg_wfm2], None)\n",
    "# lePlot = tc.plot().show()\n",
    "# leData = new_exp.run(tc, [(my_param1, np.linspace(20e6,35e6,10)),(my_param2, np.linspace(0,3,3))])\n",
    "\n",
    "\n",
    "#Connected M1 to TRIG1 and AWG-CH1 to ADC-CH1\n",
    "\n",
    "instr = lab._get_instrument('TaborAWG')"
   ]
  },
  {
   "cell_type": "code",
   "execution_count": 10,
   "metadata": {},
   "outputs": [],
   "source": [
    "instr = lab._get_instrument('TaborAWG')"
   ]
  },
  {
   "cell_type": "code",
   "execution_count": 12,
   "metadata": {},
   "outputs": [
    {
     "data": {
      "text/plain": [
       "<Tabor_P2584M: TaborAWG>"
      ]
     },
     "execution_count": 12,
     "metadata": {},
     "output_type": "execute_result"
    }
   ],
   "source": [
    "instr"
   ]
  },
  {
   "cell_type": "code",
   "execution_count": null,
   "metadata": {},
   "outputs": [],
   "source": []
  }
 ],
 "metadata": {
  "interpreter": {
   "hash": "e0d6ac560025ba72c3621cef6ba09c6257c9f330c032cd75891a043faff08122"
  },
  "kernelspec": {
   "display_name": "Python 3.9.7 ('sqdtoolz_beta')",
   "language": "python",
   "name": "python3"
  },
  "language_info": {
   "codemirror_mode": {
    "name": "ipython",
    "version": 3
   },
   "file_extension": ".py",
   "mimetype": "text/x-python",
   "name": "python",
   "nbconvert_exporter": "python",
   "pygments_lexer": "ipython3",
   "version": "3.9.7"
  },
  "orig_nbformat": 4
 },
 "nbformat": 4,
 "nbformat_minor": 2
}
