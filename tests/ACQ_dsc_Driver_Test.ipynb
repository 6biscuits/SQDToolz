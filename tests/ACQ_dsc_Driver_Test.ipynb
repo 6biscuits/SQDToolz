{
 "cells": [
  {
   "cell_type": "markdown",
   "metadata": {},
   "source": [
    "# DSA70804B Driver Test"
   ]
  },
  {
   "cell_type": "code",
   "execution_count": 11,
   "metadata": {},
   "outputs": [],
   "source": [
    "dsc.close()"
   ]
  },
  {
   "cell_type": "code",
   "execution_count": 1,
   "metadata": {},
   "outputs": [],
   "source": [
    "import sqdtoolz as sqdt\n",
    "import numpy as np\n",
    "import os\n",
    "import pandas as pd \n",
    "from matplotlib import pyplot as plt\n",
    "from time import sleep\n",
    "from sqdtoolz.Utilities.DataFitting import*\n",
    "from sqdtoolz.Utilities.DataFitting import DFitNotchResonance\n",
    "from sqdtoolz.Utilities.FileIO import FileIOReader\n",
    "from sqdtoolz.Drivers.ACQ_TektronixDSA70804B import TektronixDSA70804B\n",
    "# from resonator_tools import circuit\n",
    "import datetime\n",
    "\n",
    "# creates a lab object which registers all instruments from the .yaml file and handles the Hardware Abstraction Layer (HAL) objects\n",
    "lab = sqdt.Laboratory(instr_config_file = \"ACQ_dsc_Rack.yaml\", save_dir = \"z:\\\\Data\\\\Double-Upconversion_NEW_Oscilloscope_Driver_Test\\\\\", using_VS_Code=True)\n",
    "# dsc.close_all()\n",
    "dsc= TektronixDSA70804B('DSA70804B', address='TCPIP::192.168.1.200')\n",
    "# lab.load_instrument('dsc')\n",
    "# sqdt.HAL.ACQdsc('dsc', lab, ['dsc','CH1'])"
   ]
  },
  {
   "cell_type": "code",
   "execution_count": null,
   "metadata": {},
   "outputs": [],
   "source": [
    "dsc.submodules['A']"
   ]
  },
  {
   "cell_type": "code",
   "execution_count": 15,
   "metadata": {},
   "outputs": [],
   "source": [
    "#Load Instruments\n",
    "\n",
    "lab.load_instrument('MWS_Windfreak_3')\n",
    "wf3_channel_a = sqdt.GENmwSource('WINDFREAK_CH_A', lab, 'MWS_Windfreak_3', 'RFoutA') #HAL\n",
    "wf3_channel_b = sqdt.GENmwSource('WINDFREAK_CH_B', lab, 'MWS_Windfreak_3', 'RFoutB') #HAL\n",
    "#Windfreak 3 channels\n",
    "\n",
    "#channel A\n",
    "wf3_channel_a.Power = 0 #dBm\n",
    "wf3_channel_a.Output = True\n",
    "wf3_channel_a.Frequency = 4e9 #LO1 3.4e9\n",
    "wf3_channel_a.Mode = 'Continuous'\n",
    "\n",
    "#channel B\n",
    "wf3_channel_b.Power = 0 #dBm\n",
    "wf3_channel_b.Output = True\n",
    "wf3_channel_b.Frequency = 7.95e9 #LO2 8.9e9\n",
    "wf3_channel_b.Mode = 'Continuous'"
   ]
  },
  {
   "cell_type": "code",
   "execution_count": null,
   "metadata": {},
   "outputs": [],
   "source": [
    "dsc.close()#close the instrument to avoid duplicate names\n",
    "lab.release_all_instruments()"
   ]
  },
  {
   "cell_type": "code",
   "execution_count": null,
   "metadata": {},
   "outputs": [],
   "source": [
    "dsc.submodules['CH1'].VerticalPosition=0\n"
   ]
  },
  {
   "cell_type": "code",
   "execution_count": null,
   "metadata": {},
   "outputs": [],
   "source": [
    "dsc.DataEncdg='ribinary'\n",
    "dsc.WfmoutpreBytNr=2\n",
    "print(dsc.DataEncdg);print(dsc.DataEncdg=='RIB')\n",
    "print(dsc.WfmoutpreBytNr);print(dsc.WfmoutpreBytNr==2)\n",
    "print(dsc.WfmoutpreBnFmt);print(dsc.WfmoutpreBnFmt=='RI')\n",
    "print(dsc.WfmoutpreBytNr);print(dsc.WfmoutpreBytNr==1)"
   ]
  },
  {
   "cell_type": "code",
   "execution_count": 3,
   "metadata": {},
   "outputs": [
    {
     "data": {
      "text/plain": [
       "'1;0;0;0;0;0;0;0;0;0;0;0;CH1'"
      ]
     },
     "execution_count": 3,
     "metadata": {},
     "output_type": "execute_result"
    }
   ],
   "source": [
    "dsc.Autoset='execute'\n",
    "dsc.Select"
   ]
  },
  {
   "cell_type": "code",
   "execution_count": 4,
   "metadata": {},
   "outputs": [],
   "source": [
    "dsc.Autoset='execute'"
   ]
  },
  {
   "cell_type": "code",
   "execution_count": null,
   "metadata": {},
   "outputs": [],
   "source": [
    "dsc.submodules['CH4'].SelectCh='off'"
   ]
  },
  {
   "cell_type": "code",
   "execution_count": null,
   "metadata": {},
   "outputs": [],
   "source": [
    "dsc.submodules['A'].TriggerStateSys"
   ]
  },
  {
   "cell_type": "code",
   "execution_count": 7,
   "metadata": {},
   "outputs": [
    {
     "name": "stdout",
     "output_type": "stream",
     "text": [
      "HorizontalAcqduration (s): 1.25e-09\n",
      "HorizontalAcqlength (pts): 1250\n",
      "SampleRate (GHz): 1000.0\n",
      "TimeScale (s): 1.25e-10\n",
      "verify to HorizontalAcqduration (s): 1.25e-09\n",
      ":WFMO:BYT_N 2;BIT_N 16;ENC BIN;BN_F RI;BYT_O LSB;WFI \"Ch1, DC coupling, 100.0mV/div, 125.0ps/div, 1250 points, Sample mode\";NR_P 1250;PT_F Y;XUN \"s\";XIN 1.0000E-12;XZE 479.7506E-15;PT_O 625;YUN \"V\";YMU 15.6250E-6;YOF 0.0000;YZE 0.0000;NR_FR 1\n",
      "FAS\n",
      "RI\n",
      "2\n"
     ]
    },
    {
     "data": {
      "image/png": "[encoded data removed]",
      "text/plain": [
       "<Figure size 432x288 with 1 Axes>"
      ]
     },
     "metadata": {
      "needs_background": "light"
     },
     "output_type": "display_data"
    }
   ],
   "source": [
    "\n",
    "ch_num=1\n",
    "dsc.AcuireMode='sample'\n",
    "dsc.TriggerHoldoffBy='random'# vals.Enum('time','default','random','auto')\n",
    "dsc.submodules[f'CH{ch_num}'].SelectCh='on'\n",
    "dsc.DataSource=f'ch{ch_num}'\n",
    "dsc.submodules['A'].TriggerEdgeSource=f'ch{ch_num}'\n",
    "dsc.submodules['A'].Trigger='setlevel'\n",
    "dsc.submodules['A'].TriggerEdgeCoupling='dc'\n",
    "dsc.submodules['A'].TriggerEdgeSlope='rise'\n",
    "dsc.submodules['A'].TriggerLevel=0.1\n",
    "dsc.submodules['B'].TriggerState='off'\n",
    "dsc.submodules['A'].TriggerStateSys#the tigger states: ready, armed, or Trig'd\n",
    "# dsc.Autoset='execute' # auto set takes time, before which finishes, if you read data, timeout expires might happen\n",
    "DataEncdg={0:'ascii',1:'fastest',  2:'ribinary', 3:'rpbinary', 4:'fpbinary',\\\n",
    "                                   5:'sribinary',6:'srpbinary',7:'sfpbinary'}\n",
    "dsc.DataEncdg=DataEncdg[1]\n",
    "dsc.HorizontalPosition=50#trigger point at 50% of the horizontal axis\n",
    "dsc.AcquireSamplingmode='it' #Interpolation: Nyquist sampling theorem\n",
    "dsc.HorizontalMode='auto'\n",
    "\n",
    "#'auto': you can set the Scale and Sample Rate. Record length is a dependent variable.\n",
    "# 'constant': set the Scale and Sample Rate, Record length dependent.\n",
    "# 'manual', manual mode can be used to change samplerate and record length simultaneously\n",
    "# Automatic and Constant Sample Rate modes are identical. However, Constant Sample Rate mode keeps the sample rate constant at a rate that guarantees bandwidth enhancement filters are used.\n",
    "# dsc.HorizontalModeRecordlength=200\n",
    "dsc.TimeScale=5/4e9/10 #the signal frequency is (period number:2)/(signal frequency: 4e9)/(division number:10);not accurate as real settings\n",
    "# dsc.HorizontalAcqlength=200\n",
    "print('HorizontalAcqduration (s):',dsc.HorizontalAcqduration)\n",
    "print('HorizontalAcqlength (pts):',dsc.HorizontalAcqlength)\n",
    "print('SampleRate (GHz):',dsc.SampleRate/1e9)\n",
    "print('TimeScale (s):',dsc.TimeScale)\n",
    "print('verify to HorizontalAcqduration (s):',dsc.HorizontalAcqlength/dsc.SampleRate)\n",
    "# print(dsc.SampleRate)\n",
    "# dsc.WfmoutpreBytNr=2\n",
    "dsc.DataStart=1\n",
    "dsc.DataStop=dsc.HorizontalAcqlength\n",
    "dsc._Header='on'\n",
    "print(dsc.Wfmoutpre)\n",
    "dsc._Header='off'\n",
    "# wfm_data=scp.visa_handle.query_binary_values('CURVe?', datatype='h')\n",
    "#see https://docs.python.org/2/library/struct.html#format-characters for datatype\n",
    "# plt.plot(wfm_data)\n",
    "# plt.show()\n",
    "dsc.wfm_plot()"
   ]
  },
  {
   "cell_type": "code",
   "execution_count": null,
   "metadata": {},
   "outputs": [],
   "source": [
    "dsc.write('HORizontal:MODE:RECOrdlength 200')\n",
    "dsc.SampleRate=200e9"
   ]
  },
  {
   "cell_type": "code",
   "execution_count": null,
   "metadata": {},
   "outputs": [],
   "source": [
    "dsc.submodules['A']"
   ]
  },
  {
   "cell_type": "code",
   "execution_count": null,
   "metadata": {},
   "outputs": [],
   "source": [
    "dsc.SampleRate/1e9"
   ]
  },
  {
   "cell_type": "code",
   "execution_count": null,
   "metadata": {},
   "outputs": [],
   "source": [
    "dsc.ask('HORizontal:MODE:RECOrdlength?')"
   ]
  },
  {
   "cell_type": "code",
   "execution_count": null,
   "metadata": {},
   "outputs": [],
   "source": [
    "test=float('inf')\n",
    "1/test\n",
    "print(1>-test)"
   ]
  },
  {
   "cell_type": "code",
   "execution_count": null,
   "metadata": {},
   "outputs": [],
   "source": [
    "dsc.HorizontalAcqlength"
   ]
  },
  {
   "cell_type": "code",
   "execution_count": null,
   "metadata": {},
   "outputs": [],
   "source": [
    "dsc.WfmoutprePtOff"
   ]
  },
  {
   "cell_type": "code",
   "execution_count": null,
   "metadata": {},
   "outputs": [],
   "source": [
    "1.75*500"
   ]
  },
  {
   "cell_type": "code",
   "execution_count": null,
   "metadata": {},
   "outputs": [],
   "source": [
    "dsc._Header='on'\n",
    "print(dsc.ask('HORizontal:MAIn?'))\n",
    "print()\n"
   ]
  },
  {
   "cell_type": "code",
   "execution_count": null,
   "metadata": {},
   "outputs": [],
   "source": [
    "dsc._Header='off'\n",
    "dsc.ask('horizontal:digital:samplerate:main?')"
   ]
  },
  {
   "cell_type": "code",
   "execution_count": null,
   "metadata": {},
   "outputs": [],
   "source": [
    "p_n=dsc.ask('HORizontal:ACQLENGTH?')"
   ]
  },
  {
   "cell_type": "code",
   "execution_count": null,
   "metadata": {},
   "outputs": [],
   "source": [
    "float(p_n)/sr"
   ]
  },
  {
   "cell_type": "code",
   "execution_count": null,
   "metadata": {},
   "outputs": [],
   "source": [
    "tmp=scp.ask('wfmoutpre:bn_fmt?')\n",
    "print(tmp)\n",
    "tmp=scp.ask('wfmoutpre:byt_nr?')\n",
    "print(tmp)"
   ]
  },
  {
   "cell_type": "code",
   "execution_count": null,
   "metadata": {},
   "outputs": [],
   "source": [
    "plt.plot(wfm_data)"
   ]
  },
  {
   "cell_type": "code",
   "execution_count": null,
   "metadata": {},
   "outputs": [],
   "source": [
    "\n",
    "x0=scp.WfmoutpreXzero\n",
    "x_incr=scp.WfmoutpreXincr\n",
    "pt_off=scp.WfmoutprePtOff\n",
    "x_unit=scp.WfmoutpreXunit\n",
    "\n",
    "y0=scp.WfmoutpreYzero\n",
    "y_mult=scp.WfmoutpreYmult\n",
    "y_off=scp.WfmoutpreYoff\n",
    "y_unit=scp.WfmoutpreYunit\n",
    "\n",
    "n_x=np.arange(0,len(wfm_data))\n",
    "wfm_data=np.array(wfm_data)\n",
    "# N=len(wfm_data)\n",
    "X=x0+x_incr*(n_x-pt_off)\n",
    "Y=y0+y_mult*(wfm_data-y_off)\n",
    "plt.plot(X,Y)\n",
    "plt.xlabel('Time '+x_unit)\n",
    "plt.ylabel('Voltage '+y_unit)\n",
    "plt.show()"
   ]
  },
  {
   "cell_type": "code",
   "execution_count": null,
   "metadata": {},
   "outputs": [],
   "source": [
    "scp.ask('WFMOutpre:PT_Fmt?')"
   ]
  },
  {
   "cell_type": "code",
   "execution_count": null,
   "metadata": {},
   "outputs": [],
   "source": [
    "\n",
    "y0"
   ]
  },
  {
   "cell_type": "code",
   "execution_count": null,
   "metadata": {},
   "outputs": [],
   "source": [
    "\n",
    "n_x=list(np.arange(1,len(wfm_data)+1))"
   ]
  },
  {
   "cell_type": "code",
   "execution_count": null,
   "metadata": {},
   "outputs": [],
   "source": [
    "len(n_x)"
   ]
  },
  {
   "cell_type": "code",
   "execution_count": null,
   "metadata": {},
   "outputs": [],
   "source": [
    "scp.Header='on'\n",
    "scp.Wfmoutpre"
   ]
  }
 ],
 "metadata": {
  "kernelspec": {
   "display_name": "sqdtoolz",
   "language": "python",
   "name": "python3"
  },
  "language_info": {
   "codemirror_mode": {
    "name": "ipython",
    "version": 3
   },
   "file_extension": ".py",
   "mimetype": "text/x-python",
   "name": "python",
   "nbconvert_exporter": "python",
   "pygments_lexer": "ipython3",
   "version": "3.9.5"
  }
 },
 "nbformat": 4,
 "nbformat_minor": 2
}
