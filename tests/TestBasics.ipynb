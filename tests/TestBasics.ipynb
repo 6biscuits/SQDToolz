{
 "cells": [
  {
   "cell_type": "code",
   "execution_count": 1,
   "metadata": {},
   "outputs": [],
   "source": [
    "import sqdtoolz as stz\n",
    "import numpy as np\n",
    "\n",
    "lab = stz.Laboratory(instr_config_file = \"\", save_dir = \"TestSaves/\", using_VS_Code=True)\n",
    "lab.open_browser()"
   ]
  },
  {
   "cell_type": "code",
   "execution_count": 2,
   "metadata": {},
   "outputs": [
    {
     "data": {
      "text/plain": [
       "<sqdtoolz.HAL.GENmwSource.GENmwSource at 0x16409eb3d88>"
      ]
     },
     "execution_count": 2,
     "metadata": {},
     "output_type": "execute_result"
    }
   ],
   "source": [
    "from sqdtoolz.Drivers.dummyDDG import*\n",
    "from sqdtoolz.Drivers.dummyACQ import*\n",
    "from sqdtoolz.Drivers.dummyAWG import*\n",
    "from sqdtoolz.Drivers.dummyGENmwSource import*\n",
    "\n",
    "instr_ddg = DummyDDG('ddg')\n",
    "instr_acq = DummyACQ('acq')\n",
    "instr_fsrc = DummyGENmwSrc('freq_src_instr')\n",
    "\n",
    "lab.add_instrument(instr_ddg)\n",
    "lab.add_instrument(instr_acq)\n",
    "lab.add_instrument(instr_fsrc)\n",
    "\n",
    "stz.ACQ(\"dum_acq\", lab, 'acq')\n",
    "stz.DDG(\"dum_ddg\", lab, 'ddg', )\n",
    "stz.GENmwSource(\"MW-Src\", lab, 'freq_src_instr', 'CH1')"
   ]
  },
  {
   "cell_type": "code",
   "execution_count": null,
   "metadata": {},
   "outputs": [],
   "source": [
    "expConfig = stz.ExperimentConfiguration('testConf', lab, 1.0, ['dum_ddg', 'MW-Src'], 'dum_acq')\n",
    "exp = stz.Experiment(\"test\", lab.CONFIG('testConf'))\n",
    "stz.VariableInternal('myFreq', lab)\n",
    "lab.run_single(exp, [(lab.VAR('myFreq'), np.arange(5))], delay=2)"
   ]
  },
  {
   "cell_type": "code",
   "execution_count": null,
   "metadata": {},
   "outputs": [],
   "source": []
  }
 ],
 "metadata": {
  "interpreter": {
   "hash": "431233bc4844e27270fc64872fc45984bd3a0ebf056da87024508123c8dfcb9c"
  },
  "kernelspec": {
   "display_name": "",
   "language": "python",
   "name": "python3"
  },
  "language_info": {
   "codemirror_mode": {
    "name": "ipython",
    "version": 3
   },
   "file_extension": ".py",
   "mimetype": "text/x-python",
   "name": "python",
   "nbconvert_exporter": "python",
   "pygments_lexer": "ipython3",
   "version": "3.7.9"
  },
  "orig_nbformat": 4
 },
 "nbformat": 4,
 "nbformat_minor": 2
}
