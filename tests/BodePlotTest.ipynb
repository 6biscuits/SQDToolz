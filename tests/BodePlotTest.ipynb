{
 "cells": [
  {
   "cell_type": "code",
   "execution_count": 1,
   "metadata": {},
   "outputs": [],
   "source": [
    "import sqdtoolz as stz\n",
    "import numpy as np\n",
    "\n",
    "lab = stz.Laboratory(instr_config_file = \"BodePlotTest.yaml\", save_dir = \"mySaves/\")"
   ]
  },
  {
   "cell_type": "code",
   "execution_count": 2,
   "metadata": {},
   "outputs": [
    {
     "name": "stdout",
     "output_type": "stream",
     "text": [
      "Connected to: RIGOL TECHNOLOGIES DS1104Z (serial:DS1ZA181807164, firmware:00.04.03.SP2) in 0.59s\n"
     ]
    },
    {
     "data": {
      "text/plain": [
       "<sqdtoolz.HAL.GENfuncGen.GENfuncGen at 0x73ea1deff400>"
      ]
     },
     "execution_count": 2,
     "metadata": {},
     "output_type": "execute_result"
    }
   ],
   "source": [
    "lab.load_instrument('rigoldso')\n",
    "stz.ACQdso('DSO', lab, 'rigoldso')\n",
    "\n",
    "lab.load_instrument('fgen')\n",
    "stz.GENfuncGen('fgen1', lab, 'fgen', 'CH1')"
   ]
  },
  {
   "cell_type": "code",
   "execution_count": 3,
   "metadata": {},
   "outputs": [
    {
     "data": {
      "text/plain": [
       "<sqdtoolz.ExperimentConfiguration.ExperimentConfiguration at 0x73ea64cfcf10>"
      ]
     },
     "execution_count": 3,
     "metadata": {},
     "output_type": "execute_result"
    }
   ],
   "source": [
    "lab.HAL('fgen1').Waveform = 'SINE'\n",
    "lab.HAL('fgen1').Amplitude = 2.5\n",
    "\n",
    "lab.HAL('DSO').NumSamples = 60000\n",
    "lab.HAL('DSO').SampleRate = 2.5e6\n",
    "\n",
    "stz.VariableProperty('srcFreq', lab, lab.HAL('fgen1'), 'Frequency')\n",
    "\n",
    "stz.ExperimentConfiguration('contMeas', lab, 500e-6, ['fgen1'], 'DSO')"
   ]
  },
  {
   "cell_type": "code",
   "execution_count": 4,
   "metadata": {},
   "outputs": [
    {
     "name": "stdout",
     "output_type": "stream",
     "text": [
      " |██████████████████████████████████████████████████| 100.0% Total time: 2.67mins, Est. time left: 0.00s        \n"
     ]
    },
    {
     "name": "stderr",
     "output_type": "stream",
     "text": [
      "/home/prasanna/WorkUQ/sqdtoolz/sqdtoolz/Experiments/Experimental/ExpBodePlot.py:65: UserWarning: FigureCanvasAgg is non-interactive, and thus cannot be shown\n",
      "  fig.show()\n"
     ]
    }
   ],
   "source": [
    "from sqdtoolz.Experiments.Experimental.ExpBodePlot import ExpBodePlot\n",
    "\n",
    "lab.UpdateStateEnabled = False\n",
    "new_exp = ExpBodePlot('test', lab.CONFIG('contMeas'), lab.VAR('srcFreq'), np.logspace(2,5, 40))\n",
    "leData = lab.run_single(new_exp)\n",
    "lab.UpdateStateEnabled = True"
   ]
  },
  {
   "cell_type": "code",
   "execution_count": null,
   "metadata": {},
   "outputs": [],
   "source": []
  }
 ],
 "metadata": {
  "kernelspec": {
   "display_name": "sqdtoolz_env",
   "language": "python",
   "name": "python3"
  },
  "language_info": {
   "codemirror_mode": {
    "name": "ipython",
    "version": 3
   },
   "file_extension": ".py",
   "mimetype": "text/x-python",
   "name": "python",
   "nbconvert_exporter": "python",
   "pygments_lexer": "ipython3",
   "version": "3.9.19"
  }
 },
 "nbformat": 4,
 "nbformat_minor": 2
}
